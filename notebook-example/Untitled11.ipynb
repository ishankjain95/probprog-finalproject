{
 "cells": [
  {
   "cell_type": "code",
   "execution_count": 1,
   "metadata": {
    "collapsed": true
   },
   "outputs": [],
   "source": [
    "from __future__ import absolute_import\n",
    "from __future__ import division\n",
    "from __future__ import print_function\n",
    "\n",
    "import edward as ed\n",
    "import numpy as np\n",
    "import tensorflow as tf\n",
    "\n",
    "import matplotlib.pyplot as plt\n",
    "%matplotlib inline\n",
    "import pandas as pd"
   ]
  },
  {
   "cell_type": "code",
   "execution_count": 4,
   "metadata": {},
   "outputs": [],
   "source": [
    "# Parameters\n",
    "\n",
    "mu = 0.\n",
    "beta_true = np.array([0.7, 0.25])\n",
    "\n",
    "noise_obs = 0.1\n",
    "T = 128\n",
    "p = 2\n",
    "\n",
    "#ed.set_seed(42)\n",
    "\n",
    "#data = pd.read_csv('data/Google.csv')\n",
    "#data = data['Close']\n",
    "#data = data.as_matrix()\n",
    "#x_true = np.zeros(128)\n",
    "#for i in range(128):\n",
    "#    x_true[127-i] = data[data.size-1-i]\n",
    "#plt.plot(x_true)\n",
    "#plt.show()\n",
    "\n",
    "## Format data as percent change\n",
    "#for i in reversed(range(1,x_true.size)):\n",
    "#    x_true[i] = round((x_true[i]-x_true[i-1])/x_true[i-1],2)\n",
    "#x_true[0] = 0\n",
    "#N = 128\n",
    "#plt.plot(x_true)\n",
    "#plt.show()\n",
    "#print(\"Number of data points: {}\".format(N))\n",
    "#T = N\n"
   ]
  },
  {
   "cell_type": "code",
   "execution_count": 5,
   "metadata": {
    "collapsed": true
   },
   "outputs": [],
   "source": [
    "#Generate synthetic data\n",
    "x_true = np.random.randn(T+1)*noise_obs\n",
    "for t in range(p, T):\n",
    "    x_true[t] += beta_true.dot(x_true[t-p:t][::-1])"
   ]
  },
  {
   "cell_type": "code",
   "execution_count": 6,
   "metadata": {},
   "outputs": [
    {
     "data": {
      "image/png": "[encoded data removed]",
      "text/plain": [
       "<matplotlib.figure.Figure at 0x124886080>"
      ]
     },
     "metadata": {},
     "output_type": "display_data"
    }
   ],
   "source": [
    "plt.plot(x_true);"
   ]
  },
  {
   "cell_type": "code",
   "execution_count": 7,
   "metadata": {
    "collapsed": true
   },
   "outputs": [],
   "source": [
    "from edward.models import Normal, InverseGamma, PointMass\n",
    "\n",
    "mu = Normal(loc=0.0, scale=10.0)\n",
    "beta = [Normal(loc=0.0, scale=2.0) for i in range(p)]\n",
    "\n",
    "noise_proc = tf.constant(0.1) #InverseGamma(alpha=1.0, beta=1.0)\n",
    "noise_obs = tf.constant(0.1) #InverseGamma(alpha=1.0, beta=1.0)\n",
    "\n",
    "x = [0] * T\n",
    "for n in range(p):\n",
    "    x[n] = Normal(loc=mu, scale=10.0)  # fat prior on x\n",
    "for n in range(p, T):\n",
    "    mu_ = mu\n",
    "    for j in range(p):\n",
    "        mu_ += beta[j] * x[n-j-1]\n",
    "    x[n] = Normal(loc=mu_, scale=noise_proc)\n",
    "\n",
    "# use variance as zero to convert the list of x's to something Inference\n",
    "# will understand\n",
    "#y = Normal(mu=x, sigma=tf.constant(0.))"
   ]
  },
  {
   "cell_type": "code",
   "execution_count": 8,
   "metadata": {},
   "outputs": [
    {
     "name": "stdout",
     "output_type": "stream",
     "text": [
      "setting up distributions\n",
      "constructing inference object\n",
      "running inference\n",
      "1000/1000 [100%] ██████████████████████████████ Elapsed: 54s | Loss: -89.904\n",
      "parameter estimates:\n",
      "beta:  [0.70208883, 0.24804421]\n",
      "mu:  0.00673855\n"
     ]
    }
   ],
   "source": [
    "print(\"setting up distributions\")\n",
    "qmu = PointMass(params=tf.Variable(0.))\n",
    "qbeta = [PointMass(params=tf.Variable(0.)) for i in range(p)]\n",
    "print(\"constructing inference object\")\n",
    "vdict = {mu: qmu}\n",
    "vdict.update({b: qb for b, qb in zip(beta, qbeta)}) \n",
    "inference = ed.MAP(vdict, data={xt: xt_true for xt, xt_true in zip(x, x_true)})\n",
    "print(\"running inference\")\n",
    "inference.run()\n",
    "\n",
    "print(\"parameter estimates:\")\n",
    "print(\"beta: \", [qb.value().eval() for qb in qbeta])\n",
    "print(\"mu: \", qmu.value().eval())"
   ]
  },
  {
   "cell_type": "code",
   "execution_count": 9,
   "metadata": {},
   "outputs": [
    {
     "name": "stdout",
     "output_type": "stream",
     "text": [
      "setting up variational distributions\n",
      "constructing inference object\n",
      "running inference\n",
      "1000/1000 [100%] ██████████████████████████████ Elapsed: 53s | Loss: -79.604\n",
      "parameter estimates:\n",
      "beta[0]:  0.711906\n",
      "beta[1]:  0.249907\n",
      "mu:  0.000858603\n"
     ]
    }
   ],
   "source": [
    "print(\"setting up variational distributions\")\n",
    "qmu = Normal(loc=tf.Variable(0.), scale=tf.nn.softplus(tf.Variable(0.)))\n",
    "qbeta = [Normal(loc=tf.Variable(0.), scale=tf.nn.softplus(tf.Variable(0.))) for i in range(p)]\n",
    "print(\"constructing inference object\")\n",
    "vdict = {mu: qmu}\n",
    "vdict.update({b: qb for b, qb in zip(beta, qbeta)})\n",
    "inference_vb = ed.KLqp(vdict, data={xt: xt_true for xt, xt_true in zip(x, x_true)})\n",
    "print(\"running inference\")\n",
    "inference_vb.run()\n",
    "\n",
    "print(\"parameter estimates:\")\n",
    "for j in range(p):\n",
    "    print(\"beta[%d]: \" % j, qbeta[j].mean().eval(),)\n",
    "    #\" +- \", qbeta[j].scale().eval())\n",
    "print(\"mu: \", qmu.variance().eval())\n",
    "#, qmu.scale().eval())\n"
   ]
  },
  {
   "cell_type": "code",
   "execution_count": 10,
   "metadata": {},
   "outputs": [
    {
     "name": "stdout",
     "output_type": "stream",
     "text": [
      "statsmodels AR(2) params:  [ 0.00530383  0.71867899  0.23021566]\n"
     ]
    },
    {
     "name": "stderr",
     "output_type": "stream",
     "text": [
      "/Users/ishan/anaconda/lib/python3.6/site-packages/statsmodels/compat/pandas.py:56: FutureWarning: The pandas.core.datetools module is deprecated and will be removed in a future version. Please use the pandas.tseries module instead.\n",
      "  from pandas.core import datetools\n"
     ]
    }
   ],
   "source": [
    "from statsmodels.tsa import ar_model\n",
    "\n",
    "ar2_sm = ar_model.AR(x_true)\n",
    "res = ar2_sm.fit(maxlag=2, ic=None, trend='c')\n",
    "\n",
    "print(\"statsmodels AR(2) params: \", res.params)"
   ]
  },
  {
   "cell_type": "code",
   "execution_count": null,
   "metadata": {
    "collapsed": true
   },
   "outputs": [],
   "source": []
  }
 ],
 "metadata": {
  "kernelspec": {
   "display_name": "Python 3",
   "language": "python",
   "name": "python3"
  },
  "language_info": {
   "codemirror_mode": {
    "name": "ipython",
    "version": 3
   },
   "file_extension": ".py",
   "mimetype": "text/x-python",
   "name": "python",
   "nbconvert_exporter": "python",
   "pygments_lexer": "ipython3",
   "version": "3.6.1"
  }
 },
 "nbformat": 4,
 "nbformat_minor": 2
}
